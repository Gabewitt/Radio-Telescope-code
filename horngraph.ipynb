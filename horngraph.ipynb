{
 "cells": [
  {
   "cell_type": "code",
   "execution_count": 2,
   "metadata": {},
   "outputs": [
    {
     "ename": "FileNotFoundError",
     "evalue": "[Errno 2] No such file or directory: 'data2/2004horn/g30-good.csv'",
     "output_type": "error",
     "traceback": [
      "\u001b[0;31m---------------------------------------------------------------------------\u001b[0m",
      "\u001b[0;31mFileNotFoundError\u001b[0m                         Traceback (most recent call last)",
      "Input \u001b[0;32mIn [2]\u001b[0m, in \u001b[0;36m<cell line: 9>\u001b[0;34m()\u001b[0m\n\u001b[1;32m      6\u001b[0m freq \u001b[38;5;241m=\u001b[39m []\n\u001b[1;32m      7\u001b[0m points \u001b[38;5;241m=\u001b[39m []\n\u001b[0;32m----> 9\u001b[0m \u001b[38;5;28;01mwith\u001b[39;00m \u001b[38;5;28;43mopen\u001b[39;49m\u001b[43m(\u001b[49m\u001b[38;5;124;43m'\u001b[39;49m\u001b[38;5;124;43mdata2/2004horn/g30-good.csv\u001b[39;49m\u001b[38;5;124;43m'\u001b[39;49m\u001b[43m,\u001b[49m\u001b[43m \u001b[49m\u001b[38;5;124;43m'\u001b[39;49m\u001b[38;5;124;43mr\u001b[39;49m\u001b[38;5;124;43m'\u001b[39;49m\u001b[43m)\u001b[49m \u001b[38;5;28;01mas\u001b[39;00m file: \u001b[38;5;66;03m##choose which file you want read\u001b[39;00m\n\u001b[1;32m     10\u001b[0m     reader \u001b[38;5;241m=\u001b[39m csv\u001b[38;5;241m.\u001b[39mreader(file)\n\u001b[1;32m     11\u001b[0m     \u001b[38;5;28;01mfor\u001b[39;00m row \u001b[38;5;129;01min\u001b[39;00m reader:\n",
      "\u001b[0;31mFileNotFoundError\u001b[0m: [Errno 2] No such file or directory: 'data2/2004horn/g30-good.csv'"
     ]
    }
   ],
   "source": [
    "import csv\n",
    "import matplotlib.pyplot as plt\n",
    "import numpy as np\n",
    "\n",
    "\n",
    "freq = []\n",
    "points = []\n",
    "\n",
    "with open('data2/2004horn/g30-good.csv', 'r') as file: ##choose which file you want read\n",
    "    reader = csv.reader(file)\n",
    "    for row in reader:\n",
    "        try:\n",
    "            num1 = float(row[0])\n",
    "            num2 = float(row[1])\n",
    "            freq.append(num1)\n",
    "            points.append(num2)\n",
    "        except (ValueError, IndexError):\n",
    "            pass\n",
    "        \n",
    "print(freq)\n",
    "\n",
    "print(points)"
   ]
  },
  {
   "cell_type": "code",
   "execution_count": 3,
   "metadata": {},
   "outputs": [
    {
     "data": {
      "image/png": "[encoded data removed]",
      "text/plain": [
       "<Figure size 432x288 with 1 Axes>"
      ]
     },
     "metadata": {
      "needs_background": "light"
     },
     "output_type": "display_data"
    }
   ],
   "source": [
    "fig, ax1 = plt.subplots()\n",
    "ax1.set_xlabel(r\"Frequency in MHz\")\n",
    "ax1.set_ylabel(r\"Intensity (counts)\")\n",
    "ax1.ticklabel_format(axis='x', style='plain')\n",
    "ax1.plot(freq, points, linestyle='-')\n",
    "plt.tight_layout()\n",
    "\n",
    "plt.savefig(\"hornfreq.png\")\n",
    "\n"
   ]
  },
  {
   "cell_type": "code",
   "execution_count": 23,
   "metadata": {},
   "outputs": [
    {
     "name": "stdout",
     "output_type": "stream",
     "text": [
      "V=  128.08207384101922 and R = 6.484920341584017\n",
      "V=  181.47763085441858 and R = 7.474499410033814\n",
      "V=  196.59616829677077 and R = 7.722578912316646\n",
      "V=  206.71913374330572 and R = 7.970812729595031\n",
      "Average Velocity = 178.21875168387857\n"
     ]
    }
   ],
   "source": [
    "Vrmax =[-58, -33, -25, -22] \n",
    "V0= 233\n",
    "l=[53, 67, 72, 79]\n",
    "AverageV = list(range(len(Vrmax)))\n",
    "R0 = 8.12\n",
    "\n",
    "\n",
    "for i in range(len(Vrmax)):\n",
    "    V = Vrmax[i] + V0*np.sin((np.pi*l[i])/(180))\n",
    "    AverageV[i] = V\n",
    "    R = R0*np.sin((np.pi*l[i])/(180))\n",
    "    print(\"V= \", V, \"and R =\", R)\n",
    "\n",
    "\n",
    "#print(AverageV)\n",
    "\n",
    "\n",
    "print(\"Average Velocity =\", np.average(AverageV))\n",
    "\n"
   ]
  },
  {
   "cell_type": "code",
   "execution_count": 1,
   "metadata": {},
   "outputs": [
    {
     "name": "stdout",
     "output_type": "stream",
     "text": [
      "gfjtvghjv\n"
     ]
    }
   ],
   "source": [
    "print('gfjtvghjv')"
   ]
  },
  {
   "cell_type": "code",
   "execution_count": null,
   "metadata": {},
   "outputs": [],
   "source": []
  }
 ],
 "metadata": {
  "kernelspec": {
   "display_name": "Python 3",
   "language": "python",
   "name": "python3"
  },
  "language_info": {
   "codemirror_mode": {
    "name": "ipython",
    "version": 3
   },
   "file_extension": ".py",
   "mimetype": "text/x-python",
   "name": "python",
   "nbconvert_exporter": "python",
   "pygments_lexer": "ipython3",
   "version": "3.10.6"
  }
 },
 "nbformat": 4,
 "nbformat_minor": 2
}
