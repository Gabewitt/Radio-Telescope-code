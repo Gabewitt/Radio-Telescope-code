{
 "cells": [
  {
   "cell_type": "markdown",
   "metadata": {},
   "source": [
    "### rotation curve from 21cm data and model\n",
    "\n",
    "#### import matplotlib and numpy:"
   ]
  },
  {
   "cell_type": "code",
   "execution_count": 1,
   "metadata": {},
   "outputs": [],
   "source": [
    "import matplotlib.pyplot as plt\n",
    "import numpy as np\n",
    "#matplotlib ipympl\n",
    "plt.rcParams[\"figure.figsize\"] = [7.50, 3.50]\n",
    "plt.rcParams[\"figure.autolayout\"] = True"
   ]
  },
  {
   "cell_type": "markdown",
   "metadata": {},
   "source": [
    "### Data: measured spectrum from: https://liv.oso.chalmers.se/salsa/\n",
    "#### model and comparison data from: http://astroweb.case.edu/ssm/models/\n",
    "#### NOTE: data text files must be in a folder named data\n",
    "#### Use numpy to load each text file into 2 arrays: vel (velocity in km/s) and P (intensity in counts)"
   ]
  },
  {
   "cell_type": "code",
   "execution_count": 2,
   "metadata": {},
   "outputs": [],
   "source": [
    "## model from (McGaugh, 2018, RNAAS, 2, 156)\n",
    "Rm,Vbm,Vgm,Vkm,Vdm,Vm,Vcm = np.loadtxt(\"data/McGaugh_model.txt\", skiprows=3, unpack = True)\n",
    "## data from (McClure-Griffiths & Dickey, 2007, ApJ, 671, 427)\n",
    "Rc,Vc = np.loadtxt(\"data/McClure07.txt\", skiprows=3, unpack = True)\n",
    "## our SALSA data (measured at edge of largest velocity)\n",
    "glonM,V0M,V1M,V2M,V3M = np.loadtxt(\"data/Salsa_max.txt\", unpack = True)\n",
    "## our SALSA data (measured at highest peak in velocity)\n",
    "glonP,V0P,V1P,V2P,V3P = np.loadtxt(\"data/Salsa_peaks.txt\", unpack = True)"
   ]
  },
  {
   "cell_type": "markdown",
   "metadata": {},
   "source": [
    "#### solar values (important to note which values were used)"
   ]
  },
  {
   "cell_type": "code",
   "execution_count": 5,
   "metadata": {
    "scrolled": true
   },
   "outputs": [],
   "source": [
    "vsun = 220  # km/s\n",
    "rsun = 8.5  # kpc\n",
    "##vsun = 233  # km/s (McGaugh)\n",
    "##rsun = 8.12  # kpc (McGaugh)\n",
    "\n",
    "vsinl = vsun * np.sin( glonM * np.pi / 180.)\n",
    "rsinl = rsun * np.sin( glonM * np.pi / 180.)\n",
    "rcosl = rsun * np.cos( glonM * np.pi / 180.)"
   ]
  },
  {
   "cell_type": "markdown",
   "metadata": {},
   "source": [
    "#### estimate error and calculate rotational velocities"
   ]
  },
  {
   "cell_type": "code",
   "execution_count": 6,
   "metadata": {},
   "outputs": [],
   "source": [
    "vread = 5 # km/s (error from reading by eye)\n",
    "\n",
    "vrotM = V0M + vsinl  # edge of largest velocity\n",
    "vrotP = V0P + vsinl  # highest peak in velocity"
   ]
  },
  {
   "cell_type": "markdown",
   "metadata": {},
   "source": [
    "#### plot rotation curve"
   ]
  },
  {
   "cell_type": "code",
   "execution_count": 7,
   "metadata": {},
   "outputs": [
    {
     "data": {
      "image/png": "[encoded data removed]",
      "text/plain": [
       "<Figure size 540x252 with 1 Axes>"
      ]
     },
     "metadata": {
      "needs_background": "light"
     },
     "output_type": "display_data"
    }
   ],
   "source": [
    "fig, ax1 = plt.subplots()\n",
    "ax1.set_xlabel(r\"Radius (kpc)\")\n",
    "ax1.set_ylabel(r\"V (km/s)\")\n",
    "ax1.set_xlim(0, 10)\n",
    "ax1.set_ylim(100, 270)\n",
    "ax1.ticklabel_format(axis='x', style='plain')\n",
    "ax1.plot(Rm,Vm, linestyle='-',color='k') ## total McGaugh model\n",
    "ax1.plot(Rc,Vc, marker='o', markersize=3, color='grey') ## McClure data\n",
    "ax1.errorbar(rsinl,vrotM, yerr=vread, fmt='o', color='navy')\n",
    "ax1.errorbar(rsinl,vrotP, yerr=vread, fmt='o', fillstyle='none', color='coral')\n",
    "plt.tight_layout()"
   ]
  },
  {
   "cell_type": "code",
   "execution_count": null,
   "metadata": {},
   "outputs": [],
   "source": []
  }
 ],
 "metadata": {
  "kernelspec": {
   "display_name": "Python 3",
   "language": "python",
   "name": "python3"
  },
  "language_info": {
   "codemirror_mode": {
    "name": "ipython",
    "version": 3
   },
   "file_extension": ".py",
   "mimetype": "text/x-python",
   "name": "python",
   "nbconvert_exporter": "python",
   "pygments_lexer": "ipython3",
   "version": "3.10.6"
  }
 },
 "nbformat": 4,
 "nbformat_minor": 2
}
